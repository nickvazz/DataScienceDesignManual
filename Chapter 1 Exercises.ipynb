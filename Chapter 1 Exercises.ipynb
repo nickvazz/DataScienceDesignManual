{
 "cells": [
  {
   "cell_type": "code",
   "execution_count": 1,
   "metadata": {
    "collapsed": true
   },
   "outputs": [],
   "source": [
    "import matplotlib.pyplot as plt\n",
    "import numpy as np\n",
    "import pandas as pd\n",
    "import glob\n",
    "%matplotlib inline"
   ]
  },
  {
   "cell_type": "markdown",
   "metadata": {},
   "source": [
    "### 1-1. $\\textit{[3]}$ Indentify where interesting data sets relevant to the following domains can be found on the web:\n",
    "\n",
    "- a) Books\n",
    "- b) Horse Racing\n",
    "- c) Stock Prices\n",
    "- d) Risks of Diseases\n",
    "- e) Colleges and Universities\n",
    "- f) Crime Rates\n",
    "- g) Bird Watching\n",
    "\n",
    "### For each of these data sources, explain what you must do to turn this data into a usable format on your computer for analysis.\n",
    "---\n",
    "a) A nice [book dataset][1] where I would be able to just download a csv file to explore with pandas.\n",
    "\n",
    "b) A kaggle [horse race dataset][2] that is also a csv.\n",
    "\n",
    "c) A stock price dataset can be accessed through matplotlib already.\n",
    "\n",
    "d) Some [health datasets][4] can be found fairly easily in json or csv format. there is also a cool [insect & disease][5] dataset availible probably in csv format.\n",
    "\n",
    "e) There is a [\"college scorecard dataset\"][6] availible in csv. Actually looks very interesting and could be used to help me predict what colleges students in HS2 will get accepted.\n",
    "\n",
    "f) There is a pretty large corpus of [crime datasets][7] compiled by the government in multiple formats, some as csv. Might be able to look near colleges and stuff.\n",
    "\n",
    "g) [Caltech and UCSD][8] have a nice bird dataset that is most likely easy to download in a nice csv format. The have some other [datasets here][9]. There is probably a way to download an even larger dataset [here][10] but I would most likely need to scrape it somehow.\n",
    "\n",
    "h) [Other datasets][3]\n",
    "\n",
    "[1]: http://www2.informatik.uni-freiburg.de/~cziegler/BX/\n",
    "[2]: https://www.kaggle.com/lantanacamara/hong-kong-horse-racing/data\n",
    "[3]: https://gist.github.com/entaroadun/1653794\n",
    "[4]: https://catalog.data.gov/dataset?tags=obesity\n",
    "[5]: https://www.arcgis.com/home/item.html?id=a6a4dec6c3114e7bb759f7dd25be0d38\n",
    "[6]: https://collegescorecard.ed.gov/data/\n",
    "[7]: https://catalog.data.gov/dataset?tags=crime\n",
    "[8]: http://www.vision.caltech.edu/visipedia/CUB-200.html\n",
    "[9]: http://www.vision.caltech.edu/archive.html\n",
    "[10]: https://avibase.bsc-eoc.org/avibase.jsp"
   ]
  },
  {
   "cell_type": "markdown",
   "metadata": {},
   "source": [
    "### 1-2. $\\textit{[3]}$ Propose relevant data sources for the following $\\textit{The Quant Shop}$ prediction challenges. Distinguish between sources of data that you are sure $\\textit{somebody}$ must have, and those where the data is clearly available to you.\n",
    "\n",
    "- a) $\\textit{Miss Universe}$\n",
    "- b) $\\textit{Movie Gross}$\n",
    "- c) $\\textit{Baby Weight}$\n",
    "- d) $\\textit{Art Auction Price}$\n",
    "- e) $\\textit{White Christmas}$\n",
    "- f) $\\textit{Football Champions}$\n",
    "- g) $\\textit{Ghoul Pool}$\n",
    "- h) $\\textit{Gold/oil Prices}$\n",
    "\n",
    "---\n",
    "\n",
    "a) [Here][1] has some historical data for miss universe. Might be able to scrape wikipedia pages for Miss [Country/State] data.\n",
    "\n",
    "b) Could probably use [TMDb][2] data from kaggle to make some predictions.\n",
    "\n",
    "c) There are a few links to this sort of data to work through.\n",
    "- [simple data table][3]\n",
    "- [birthweight and gestation][4]\n",
    "- [other health statistics][5]\n",
    "- [world health organization][6]\n",
    "\n",
    "d) Finding free art auction data might be challenging but if I can find some for famous painting and artists and then data that allows me to compare other art with that art, I can predict the price of osome unknown pieces of art. Overall that might be a challenging since those art snobs are very reluctant to let the lowly data scientist game their system. Maybe try [this][7]\n",
    "\n",
    "e) To predict if it is going to snow somewhere a month in advance, I would need to look at historical data of where there is snow on the Earth and how it moves as a function of time. I would then be able to use the time series of that to predict if there would be snow somewhere a month in advance. Maybe [here][8] or [here][9]\n",
    "\n",
    "f) To predict the superbowl, I would want historical data of all games and what the stats were of each player, maybe some probabilities of how likely a player was to play well in the superbowl given his history/injuries and such. Maybe look at college football as well for predictive power given a players history.\n",
    "- [nfl savant.com][10]\n",
    "- [other][11]\n",
    "- [college][12]\n",
    "\n",
    "g) To predict celebrity deaths, I would need to college names of a bunch of celebs as well as what field they were from. Then could probably scrape together the time of death from wikipedia and get a reasonable estimate. Maybe use [this][13].\n",
    "\n",
    "h) Just find a bunch of time series of oil and gold, maybe in different countries. There are tons to work with.\n",
    "\n",
    "\n",
    "[1]: https://www.missuniverse.com/past-winners\n",
    "[2]: https://www.kaggle.com/tmdb/tmdb-movie-metadata\n",
    "[3]: https://www.cdc.gov/growthcharts/html_charts/wtageinf.htm\n",
    "[4]: https://www.cdc.gov/nchs/fastats/birthweight.htm\n",
    "[5]: https://www.cdc.gov/growthcharts/index.htm\n",
    "[6]: http://www.who.int/childgrowth/standards/weight_for_age/en/\n",
    "[7]: http://www.sothebys.com/en/auctions/results.html\n",
    "[8]: https://globalweather.tamu.edu\n",
    "[9]: https://www.wunderground.com/history/\n",
    "[10]: http://www.nflsavant.com/about.php\n",
    "[11]: https://www.pro-football-reference.com\n",
    "[12]: http://www.cfbstats.com\n",
    "[13]: http://www.imdb.com/list/ls058011111/?start=1&view=compact&sort=listorian:asc&scb=0.6847631204999147"
   ]
  },
  {
   "cell_type": "markdown",
   "metadata": {},
   "source": [
    "### 1-3. $\\textit{[3]}$ Visit <http://data.gov>, and identify five datasets that sound interesting to you. For each write a brief description, and propose three interesting things you might do with them.\n",
    "---\n",
    "1) The [College Scorecard][1] looks very interesting.\n",
    "- I would try to use it to improve my predictive model for HS2\n",
    "- Look and see what schools have changed most and if you can predict what school is likely to be more known in the near future to help give students a long term good college. Harvard wasnt always #1 right?\n",
    "- Look at college afforability vs the areas affordability over time. Maybe also look through the ranking as a function of time and see if things change in relation to that as well.\n",
    "\n",
    "2) The [Housing Affordability Data System][2] dataset seems pretty interesting also.\n",
    "- What is the GDP change in areas vs the Housing affordability?\n",
    "- Do renting prices increase at the same prices as selling prices?\n",
    "- How does median income change for places rented?\n",
    "\n",
    "3) [Grain Dataset][3] could be interesting to look at.\n",
    "- If I could find some data on beer prices by specific type and see if it changes with the price of the grain. \n",
    "- Do the grains change with any stocks?\n",
    "- Which grains are the most volitile?\n",
    "\n",
    "4) [Hurricane Data][4].\n",
    "- Compare home prices to hurricanes\n",
    "- Compare college prices to hurricane locations\n",
    "- Look at grain data compared to hurricanes\n",
    "\n",
    "5) [Nuclear Reactor Dataset][5] (downloaded, located: [here](./Datasets/))\n",
    "- Look at locations of nuke reactors locations vs housing prices\n",
    "- Look at college prices vs nuke reactor locations\n",
    "- Look at college rank vs nuke reactor locations\n",
    "\n",
    "6) [Public Budget Data](https://catalog.data.gov/dataset/public-budget-database-outlays-and-offsetting-receipts-1962-current)\n",
    "\n",
    "[1]: https://catalog.data.gov/dataset/college-scorecard\n",
    "[2]: https://catalog.data.gov/dataset/housing-affordability-data-system-hads\n",
    "[3]: https://catalog.data.gov/dataset/feed-grains-database\n",
    "[4]: https://catalog.data.gov/dataset/worldwide-historical-hurricane-tracks-from-1848-through-the-previous-hurricane-season\n",
    "[5]: https://catalog.data.gov/dataset/us-commercial-nuclear-power-reactors/resource/5ff5bae9-4c0b-44b1-aa8b-4e1382cb29ae"
   ]
  },
  {
   "cell_type": "markdown",
   "metadata": {},
   "source": [
    "### 1-4. $\\textit{[3]}$ For each of the following data sources, propose three interesting questions you can answer by analyzing them:\n",
    "- (a) Credit card billing data.\n",
    "- (b) Click data from <http://www.Amazon.com>\n",
    "- (c) White pages residential/commercial telephone directory\n",
    "---\n",
    "1) Credit card billing data\n",
    "- predict weight\n",
    "- predict race\n",
    "- predict age\n",
    "\n",
    "2) Click data from Amazon\n",
    "- depending on what dept they went to first, how long did they stay there\n",
    "- how many items on average did someone compare before buying\n",
    "- how often does someone scroll then use buy now\n",
    "- how often do people save things for later and purchase them\n",
    "\n",
    "3) white pages telephone directory\n",
    "- is there a correlation between the number of businesses and residential properties in an area\n",
    "- what are the most popular names in a region over time\n",
    "- using NLP decide how \"smart\" a companies add was, compare that with the \n"
   ]
  },
  {
   "cell_type": "markdown",
   "metadata": {},
   "source": [
    "### 1-5. $\\textit{[5]}$ Visit Entrez, the National Center for Biotechnology Information (NCBI) portal. Investigate what data sources are available, particularly the Pubmed and Genome resources. Propose three interesting projects to explore with each of them.\n",
    "\n",
    "---\n",
    "\n",
    "1) Cant seem to find the downloadable datasets :( Also dont know enough biology to be able to search anything useful.\n",
    "\n",
    "2) Would want to look at DNA or RNA, cut into random sized slices and make a bunch of histograms of hashed sequences"
   ]
  },
  {
   "cell_type": "markdown",
   "metadata": {},
   "source": [
    "### 1-6. $\\textit{[5]}$ You would like to conduct an experiment to see whether students learn bettter if they study without any music, with instrumental music, or with songs that have lyrics. Briefly outline the design for such a study.\n",
    "---\n",
    "1) First you need to come up with tasks to test each persons baseline, maybe memorizing something almost random. \n",
    "\n",
    "2) Give a baseline test for each person in the three options. \n",
    "\n",
    "3) continue to test until you have a large dataset to develop statistics"
   ]
  },
  {
   "cell_type": "markdown",
   "metadata": {},
   "source": [
    "### 1-7. $\\textit{[5]}$ You would like to conduct and experiment to establish whether your friends prefer the taste of regular Coke or Diet Coke. Briefly outline a design for such a study.\n",
    "--- \n",
    "\n",
    "1) have them take shots of 5-10 unknown liquids (multiple of coke and diet coke)\n",
    "\n",
    "2) do this over time to check if their preference \n",
    "\n",
    "3) notice if their blind preference changes"
   ]
  },
  {
   "cell_type": "markdown",
   "metadata": {},
   "source": [
    "### 1-8. $\\textit{[5]}$ Traditional polling operations like Gallup use a procedure called random digit dialing, which dials random strings of digits instead of picking phone numbers from the phone book. Suggest why such polls are conducted using random digit dialing.\n",
    "---\n",
    "\n",
    "1) They need to get good randomized statistics without bias. \n",
    "\n",
    "2) If they chose numbers it would be hard to not have that bias inherient in your data."
   ]
  },
  {
   "cell_type": "markdown",
   "metadata": {},
   "source": [
    "### 1-9. $\\textit{[5]}$ Write a program to scrape the best-seller rank for a book on <Amazon.com>. Use this to plot the rank of all of Skiena's books over time. Which one of these books should be the next item that you purchase? Do you have friends for whom they would make a welcome and appropriate gift? :-)\n",
    "---\n",
    "\n",
    "1) Couldn't figure out how to look at old pages of amazon but.I will think about it. \n",
    "\n",
    "2) Here are the amazon links to his books:\n",
    "\n",
    "- [Algorithm Design Manual](https://www.amazon.com/Algorithm-Design-Manual-Steven-Skiena/dp/1848000693/ref=sr_1_1?s=books&ie=UTF8&qid=1511387630&sr=1-1)\n",
    "\n",
    "- [The Data Science Design Manual](https://www.amazon.com/Science-Design-Manual-Texts-Computer/dp/3319554433/ref=sr_1_2?s=books&ie=UTF8&qid=1511387630&sr=1-2)\n",
    "\n",
    "- [Programming Challenges: The Programming Contest Training Manual](https://www.amazon.com/Programming-Challenges-Contest-Training-Computer/dp/0387001638/ref=sr_1_3?s=books&ie=UTF8&qid=1511387630&sr=1-3)\n",
    "\n",
    "- [Who's Bigger? Where Historical Figures Really Rank](https://www.amazon.com/Whos-Bigger-Historical-Figures-Really/dp/1107041376/ref=sr_1_7?s=books&ie=UTF8&qid=1511387763&sr=1-7&keywords=skiena)\n",
    "\n",
    "- [Calculated Best: Computers, Gambling and Mathematical Modeling to Win (Outlooks)](https://www.amazon.com/Calculated-Bets-Computers-Gambling-Mathematical/dp/0521009626/ref=sr_1_8?s=books&ie=UTF8&qid=1511387763&sr=1-8&keywords=skiena)\n",
    "\n",
    "3) Can use [this website: novelrank.com.](https://www.novelrank.com) Currently some websites are not ranked. "
   ]
  },
  {
   "cell_type": "markdown",
   "metadata": {},
   "source": [
    "### 1-10. $\\textit{[5]}$ For your favorite sport (baseball, football, basketball, cricket, or soccer) identify a data set with the historical statistical records for all major participants. Devise and implement a ranking system to identify the best player at each position.\n",
    "---\n"
   ]
  },
  {
   "cell_type": "markdown",
   "metadata": {},
   "source": [
    "### 1-11. $\\textit{[3]}$ For each of the following questions: (1) produce a quick guess based only on your understanding of the world, and then (2) use Google to find supportable numbers to produce a more pincipled estimate from. How much did your estimates differ by?\n",
    "\n",
    "---\n",
    "\n",
    "(a) How many piano tuners are there in the entire world?\n",
    "\n",
    "- (1) $10^{-3} * 10^{-3} * $\n",
    "- (2) \n",
    "\n",
    "(b) How much does the ice in a hockey rink weight?\n",
    "\n",
    "(c) How many gas stations are there in the United States?\n",
    "\n",
    "(d) How many people fly in and out of LaGuardia Airport every day?\n",
    "\n",
    "(e) How many gallons of ice cream are sold in the United States each year?\n",
    "\n",
    "(f) How many basketballs are purchase by the National Basketball Association (NBA) each year?\n",
    "\n",
    "(g) How many fish are there in all the world's oceans?\n",
    "\n",
    "(h) How many people are flying in the air right now, all over the world?\n",
    "\n",
    "(i) How many ping-pong balls can fit in a large commercial jet?\n",
    "\n",
    "(j) How many miles of paved road are there in your favorite country?\n",
    "\n",
    "(k) How many dollar bills are sitting in the wallets of all the people at Stony Brook University?\n",
    "\n",
    "(l) How many gallons of gasoline does a typical gas station sell per day?\n",
    "\n",
    "(m) How many words are there in this book?\n",
    "\n",
    "(n) How many cats live in New York city?\n",
    "\n",
    "(o) How much would it cost to fill a typical car's gas tank with Starbuck's coffee?\n",
    "\n",
    "(p) How much tea is there in China?\n",
    "\n",
    "(q) How many checking accounts are there in the United States?\n",
    "\n"
   ]
  },
  {
   "cell_type": "markdown",
   "metadata": {},
   "source": [
    "### 1-12. $\\textit{[3]}$ What are the differences between regression and classification?\n",
    "---"
   ]
  },
  {
   "cell_type": "markdown",
   "metadata": {},
   "source": [
    "### 1-13. $\\textit{[8]}$ How would you build a data-driven recommendation system? Whare the the limitations of this approach?\n",
    "---"
   ]
  },
  {
   "cell_type": "markdown",
   "metadata": {},
   "source": [
    "### 1-14. $\\textit{[3]}$ How did you become interested in data science?\n",
    "---"
   ]
  },
  {
   "cell_type": "markdown",
   "metadata": {},
   "source": [
    "### 1-15. $\\textit{[3]}$ Do you think data science is an art or a science?\n",
    "---"
   ]
  }
 ],
 "metadata": {
  "kernelspec": {
   "display_name": "Python 2",
   "language": "python",
   "name": "python2"
  },
  "language_info": {
   "codemirror_mode": {
    "name": "ipython",
    "version": 2
   },
   "file_extension": ".py",
   "mimetype": "text/x-python",
   "name": "python",
   "nbconvert_exporter": "python",
   "pygments_lexer": "ipython2",
   "version": "2.7.10"
  }
 },
 "nbformat": 4,
 "nbformat_minor": 2
}
